{
 "cells": [
  {
   "cell_type": "markdown",
   "metadata": {},
   "source": [
    "# ANOVA Test for Rations of Douro e Alentejano Red Wine\n",
    "##### Gabriel dos Reis Estivalet (M20170043)     -     Nova IMS     -     Statistics    -    Dec/2017 \n",
    "\n",
    "## 1. Introduction\n",
    "This project aims to apply the ANOVA test into 3 samples of red wines from different regions in the world. More specifically, the Cabernet Sauvignon from Napa Valley in California, USA, the Malbec red wine from Mendoza, Argentina, and Alentejano Portuguese Red Wine, which are regarded among the best in their respective countries.\n",
    "\n",
    "With that in mind, the Wine Reviews dataset from Kaggle will be used to make a comparison between these three selected groups. This dataset was scraped on November 22nd, 2017, and it presents a very large list of wines from all across the globe along with each wine's characteristics and, more importantly for our study, their respective scores from WineEnthusiast. The scale ranges from 1 to 100, but only the scores above 80 were included in the data.\n",
    "\n",
    "Therefore, we can state the following:\n",
    "* **Objective**: test the claim that all the sampled wines from each region are considered equivalently good.\n",
    "* **Study variable**: Wine Scores.\n",
    "* **Experimental units**: Red Wines.\n",
    "* **Factor**: Provinces.\n",
    "* **Factor levels (3 groups)**: Alentejano, Mendoza and Napa.\n",
    "* **Sample size**: 30 randonly selected units in each group.\n",
    "\n",
    "\n",
    "Dataset source: https://www.kaggle.com/zynicide/wine-reviews"
   ]
  },
  {
   "cell_type": "markdown",
   "metadata": {},
   "source": [
    "### 1.1 Selecting the data"
   ]
  },
  {
   "cell_type": "code",
   "execution_count": 1,
   "metadata": {
    "collapsed": true
   },
   "outputs": [],
   "source": [
    "import pandas as pd\n",
    "import numpy as np\n",
    "import matplotlib.pyplot as plt\n",
    "import seaborn as sns\n",
    "sns.set_style(\"whitegrid\")\n",
    "%matplotlib inline\n",
    "\n",
    "from scipy import stats\n",
    "import warnings\n",
    "warnings.filterwarnings('ignore')"
   ]
  },
  {
   "cell_type": "code",
   "execution_count": 2,
   "metadata": {},
   "outputs": [
    {
     "name": "stdout",
     "output_type": "stream",
     "text": [
      "There are 150930 rows in the dataset. Each one represent a particular wine with 10 columns displaying all their \n",
      "characteristics.\n"
     ]
    },
    {
     "data": {
      "text/html": [
       "<div>\n",
       "<style scoped>\n",
       "    .dataframe tbody tr th:only-of-type {\n",
       "        vertical-align: middle;\n",
       "    }\n",
       "\n",
       "    .dataframe tbody tr th {\n",
       "        vertical-align: top;\n",
       "    }\n",
       "\n",
       "    .dataframe thead th {\n",
       "        text-align: right;\n",
       "    }\n",
       "</style>\n",
       "<table border=\"1\" class=\"dataframe\">\n",
       "  <thead>\n",
       "    <tr style=\"text-align: right;\">\n",
       "      <th></th>\n",
       "      <th>country</th>\n",
       "      <th>description</th>\n",
       "      <th>designation</th>\n",
       "      <th>points</th>\n",
       "      <th>price</th>\n",
       "      <th>province</th>\n",
       "      <th>region_1</th>\n",
       "      <th>region_2</th>\n",
       "      <th>variety</th>\n",
       "      <th>winery</th>\n",
       "    </tr>\n",
       "  </thead>\n",
       "  <tbody>\n",
       "    <tr>\n",
       "      <th>0</th>\n",
       "      <td>US</td>\n",
       "      <td>This tremendous 100% varietal wine hails from ...</td>\n",
       "      <td>Martha's Vineyard</td>\n",
       "      <td>96</td>\n",
       "      <td>235.0</td>\n",
       "      <td>California</td>\n",
       "      <td>Napa Valley</td>\n",
       "      <td>Napa</td>\n",
       "      <td>Cabernet Sauvignon</td>\n",
       "      <td>Heitz</td>\n",
       "    </tr>\n",
       "    <tr>\n",
       "      <th>1</th>\n",
       "      <td>Spain</td>\n",
       "      <td>Ripe aromas of fig, blackberry and cassis are ...</td>\n",
       "      <td>Carodorum Selección Especial Reserva</td>\n",
       "      <td>96</td>\n",
       "      <td>110.0</td>\n",
       "      <td>Northern Spain</td>\n",
       "      <td>Toro</td>\n",
       "      <td>NaN</td>\n",
       "      <td>Tinta de Toro</td>\n",
       "      <td>Bodega Carmen Rodríguez</td>\n",
       "    </tr>\n",
       "    <tr>\n",
       "      <th>2</th>\n",
       "      <td>US</td>\n",
       "      <td>Mac Watson honors the memory of a wine once ma...</td>\n",
       "      <td>Special Selected Late Harvest</td>\n",
       "      <td>96</td>\n",
       "      <td>90.0</td>\n",
       "      <td>California</td>\n",
       "      <td>Knights Valley</td>\n",
       "      <td>Sonoma</td>\n",
       "      <td>Sauvignon Blanc</td>\n",
       "      <td>Macauley</td>\n",
       "    </tr>\n",
       "  </tbody>\n",
       "</table>\n",
       "</div>"
      ],
      "text/plain": [
       "  country                                        description  \\\n",
       "0      US  This tremendous 100% varietal wine hails from ...   \n",
       "1   Spain  Ripe aromas of fig, blackberry and cassis are ...   \n",
       "2      US  Mac Watson honors the memory of a wine once ma...   \n",
       "\n",
       "                            designation  points  price        province  \\\n",
       "0                     Martha's Vineyard      96  235.0      California   \n",
       "1  Carodorum Selección Especial Reserva      96  110.0  Northern Spain   \n",
       "2         Special Selected Late Harvest      96   90.0      California   \n",
       "\n",
       "         region_1 region_2             variety                   winery  \n",
       "0     Napa Valley     Napa  Cabernet Sauvignon                    Heitz  \n",
       "1            Toro      NaN       Tinta de Toro  Bodega Carmen Rodríguez  \n",
       "2  Knights Valley   Sonoma     Sauvignon Blanc                 Macauley  "
      ]
     },
     "execution_count": 2,
     "metadata": {},
     "output_type": "execute_result"
    }
   ],
   "source": [
    "data = pd.read_csv('winemag-data_first150k.csv').drop('Unnamed: 0', axis=1)\n",
    "print('There are {} rows in the dataset. Each one represent'.format(data.shape[0]),\n",
    "      'a particular wine with 10 columns displaying all their \\ncharacteristics.')\n",
    "data.head(3)#displays first three lines"
   ]
  },
  {
   "cell_type": "code",
   "execution_count": 3,
   "metadata": {},
   "outputs": [
    {
     "name": "stdout",
     "output_type": "stream",
     "text": [
      "(30, 2)\n",
      "(30, 2)\n",
      "(30, 2)\n"
     ]
    }
   ],
   "source": [
    "mendoza = (data[['province','points']]\n",
    "               [(data.country == 'Argentina') \n",
    "              & (data.province == 'Mendoza Province')\n",
    "              & (data.region_1 == 'Mendoza')\n",
    "              & (data.variety == 'Malbec')]\n",
    "         .sample(n=30, replace=False, random_state=101)\n",
    "         .sort_values(by='points', ascending=False)\n",
    "         .reset_index()\n",
    "         .drop('index', axis=1)\n",
    "         .replace('Mendoza Province', 'Mendoza'))\n",
    "\n",
    "napa = (data[['province','points']]\n",
    "               [(data.country == 'US') \n",
    "              & (data.province == 'California') \n",
    "              & (data.region_1 == 'Napa Valley')\n",
    "              & (data.variety == 'Cabernet Sauvignon')]\n",
    "         .sample(n=30, replace=False, random_state=101)\n",
    "         .sort_values(by='points', ascending=False)\n",
    "         .reset_index()\n",
    "         .drop('index', axis=1)\n",
    "         .replace('California', 'Napa'))\n",
    "\n",
    "\n",
    "alentejano =(data[['province','points']]\n",
    "                [(data.country == 'Portugal')\n",
    "                & (data.province == 'Alentejano') \n",
    "                & (data.variety == 'Portuguese Red')]\n",
    "            .sample(n=30, replace=False, random_state=101)\n",
    "            .sort_values(by='points', ascending=False)\n",
    "            .reset_index()\n",
    "            .drop('index', axis=1))\n",
    "\n",
    "#all 3 region-tables have 30 rows and 2 columns.\n",
    "print(napa.shape)\n",
    "print(alentejano.shape)\n",
    "print(mendoza.shape)"
   ]
  },
  {
   "cell_type": "code",
   "execution_count": 4,
   "metadata": {},
   "outputs": [
    {
     "data": {
      "text/html": [
       "<div>\n",
       "<style scoped>\n",
       "    .dataframe tbody tr th:only-of-type {\n",
       "        vertical-align: middle;\n",
       "    }\n",
       "\n",
       "    .dataframe tbody tr th {\n",
       "        vertical-align: top;\n",
       "    }\n",
       "\n",
       "    .dataframe thead th {\n",
       "        text-align: right;\n",
       "    }\n",
       "</style>\n",
       "<table border=\"1\" class=\"dataframe\">\n",
       "  <thead>\n",
       "    <tr style=\"text-align: right;\">\n",
       "      <th></th>\n",
       "      <th>province</th>\n",
       "      <th>points</th>\n",
       "    </tr>\n",
       "  </thead>\n",
       "  <tbody>\n",
       "    <tr>\n",
       "      <th>0</th>\n",
       "      <td>Alentejano</td>\n",
       "      <td>94</td>\n",
       "    </tr>\n",
       "    <tr>\n",
       "      <th>1</th>\n",
       "      <td>Alentejano</td>\n",
       "      <td>92</td>\n",
       "    </tr>\n",
       "    <tr>\n",
       "      <th>2</th>\n",
       "      <td>Alentejano</td>\n",
       "      <td>92</td>\n",
       "    </tr>\n",
       "    <tr>\n",
       "      <th>3</th>\n",
       "      <td>Alentejano</td>\n",
       "      <td>91</td>\n",
       "    </tr>\n",
       "    <tr>\n",
       "      <th>4</th>\n",
       "      <td>Alentejano</td>\n",
       "      <td>90</td>\n",
       "    </tr>\n",
       "  </tbody>\n",
       "</table>\n",
       "</div>"
      ],
      "text/plain": [
       "     province  points\n",
       "0  Alentejano      94\n",
       "1  Alentejano      92\n",
       "2  Alentejano      92\n",
       "3  Alentejano      91\n",
       "4  Alentejano      90"
      ]
     },
     "execution_count": 4,
     "metadata": {},
     "output_type": "execute_result"
    }
   ],
   "source": [
    "selection = pd.concat([alentejano, napa, mendoza]).reset_index().drop('index', axis=1)\n",
    "selection.head() #displays the first 5 rows of the selection table."
   ]
  },
  {
   "cell_type": "code",
   "execution_count": 5,
   "metadata": {},
   "outputs": [
    {
     "data": {
      "text/plain": [
       "Mendoza       30\n",
       "Napa          30\n",
       "Alentejano    30\n",
       "Name: province, dtype: int64"
      ]
     },
     "execution_count": 5,
     "metadata": {},
     "output_type": "execute_result"
    }
   ],
   "source": [
    "selection.province.value_counts()"
   ]
  },
  {
   "cell_type": "markdown",
   "metadata": {},
   "source": [
    "Now we have 3 tables with 30 randonly selected samples of wine from each province along with their respective scores. These 3 tables were concatenated to form a new table called **selection**. Its first 5 rows were displayed above (note that the first 5 entries are from Alentejano wines, but we can confirm that each region is being represent by 30 randonly selected wines in the code immediately above).\n",
    "\n",
    "Once we have our data selected, we can start our exploratory analysis."
   ]
  },
  {
   "cell_type": "markdown",
   "metadata": {},
   "source": [
    "## 2. Methodology\n",
    "\n",
    "The methodology applied will consist of applying the following tests:\n",
    "* Shapiro-Wilk Test to acertain if the populations are normally distributed;\n",
    "* Levene's Test to access if the variances of the populations are equal;\n",
    "* Finally, if the data pass the previous tests, ANOVA will be applied to test for means equivalence between the populations tested.\n",
    "\n",
    "In case the ANOVA test fails, an additional test of multiple comparison will be applied in order to test which pair(s) of means are different."
   ]
  },
  {
   "cell_type": "markdown",
   "metadata": {},
   "source": [
    "## 3. Results\n",
    "### 3.1 Exploratory Data Analysis (EDA)"
   ]
  },
  {
   "cell_type": "code",
   "execution_count": 6,
   "metadata": {},
   "outputs": [
    {
     "data": {
      "image/png": "[encoded data removed]",
      "text/plain": [
       "<matplotlib.figure.Figure at 0x1064b18d0>"
      ]
     },
     "metadata": {},
     "output_type": "display_data"
    }
   ],
   "source": [
    "fig, ax = plt.subplots(figsize=(11.5,2))\n",
    "sns.distplot(selection['points'], hist=False)\n",
    "plt.title('Distribution of points of Red Wines for the 3 selected provinces', fontweight='bold', fontsize=15)\n",
    "ax.spines['right'].set_visible(False)\n",
    "ax.spines['top'].set_visible(False)\n",
    "plt.show()"
   ]
  },
  {
   "cell_type": "code",
   "execution_count": 7,
   "metadata": {},
   "outputs": [
    {
     "data": {
      "image/png": "[encoded data removed]",
      "text/plain": [
       "<matplotlib.figure.Figure at 0x1a13855d68>"
      ]
     },
     "metadata": {},
     "output_type": "display_data"
    }
   ],
   "source": [
    "g = sns.FacetGrid(selection, row=\"province\",\n",
    "                  size=1.9, aspect=5,)\n",
    "g.map(sns.distplot, \"points\", hist=False, rug=True);"
   ]
  },
  {
   "cell_type": "code",
   "execution_count": 8,
   "metadata": {},
   "outputs": [
    {
     "data": {
      "image/png": "[encoded data removed]",
      "text/plain": [
       "<matplotlib.figure.Figure at 0x1a0da81c18>"
      ]
     },
     "metadata": {},
     "output_type": "display_data"
    }
   ],
   "source": [
    "fig, ax = plt.subplots(figsize=(11.5,3))\n",
    "sns.boxplot('points','province',data=selection, palette='Set1')\n",
    "plt.title('Box Plot of points for selected Wines', fontweight='bold', fontsize=15)\n",
    "ax.spines['right'].set_visible(False)\n",
    "ax.spines['top'].set_visible(False)\n",
    "\n",
    "plt.show()"
   ]
  },
  {
   "cell_type": "code",
   "execution_count": 9,
   "metadata": {},
   "outputs": [
    {
     "data": {
      "image/png": "[encoded data removed]",
      "text/plain": [
       "<matplotlib.figure.Figure at 0x1a13855940>"
      ]
     },
     "metadata": {},
     "output_type": "display_data"
    }
   ],
   "source": [
    "plt.figure(figsize=(11.5,4))\n",
    "sns.swarmplot('province', 'points', hue='province', data=selection, size=12, palette='Set1')\n",
    "plt.show()"
   ]
  },
  {
   "cell_type": "markdown",
   "metadata": {},
   "source": [
    "Based on the plots above, we can see that the distribution of Alentejano's and Mendoza's wines seem to be a little bit more similar than Napa's. Some differences can also be seen in the box and swarm plots, which shows a contrast of quartiles between the regions and also that the Napa province presents a bigger variance, with the largest rating and also one of the smallest ones. The swarm plot displays additionally all the observations from each province along with its respective underlying distribution. Once again, Alentejano and Mendoza seem to be slightly more similar.\n",
    "\n",
    "The same can be shown by looking at the **summary statistics** below."
   ]
  },
  {
   "cell_type": "code",
   "execution_count": 10,
   "metadata": {},
   "outputs": [
    {
     "data": {
      "text/html": [
       "<div>\n",
       "<style scoped>\n",
       "    .dataframe tbody tr th:only-of-type {\n",
       "        vertical-align: middle;\n",
       "    }\n",
       "\n",
       "    .dataframe tbody tr th {\n",
       "        vertical-align: top;\n",
       "    }\n",
       "\n",
       "    .dataframe thead th {\n",
       "        text-align: right;\n",
       "    }\n",
       "</style>\n",
       "<table border=\"1\" class=\"dataframe\">\n",
       "  <thead>\n",
       "    <tr style=\"text-align: right;\">\n",
       "      <th></th>\n",
       "      <th>points_Alentejano</th>\n",
       "      <th>points_Napa</th>\n",
       "      <th>points_Mendoza</th>\n",
       "    </tr>\n",
       "  </thead>\n",
       "  <tbody>\n",
       "    <tr>\n",
       "      <th>count</th>\n",
       "      <td>30.00</td>\n",
       "      <td>30.00</td>\n",
       "      <td>30.00</td>\n",
       "    </tr>\n",
       "    <tr>\n",
       "      <th>mean</th>\n",
       "      <td>87.80</td>\n",
       "      <td>90.00</td>\n",
       "      <td>86.83</td>\n",
       "    </tr>\n",
       "    <tr>\n",
       "      <th>std</th>\n",
       "      <td>2.59</td>\n",
       "      <td>3.76</td>\n",
       "      <td>2.64</td>\n",
       "    </tr>\n",
       "    <tr>\n",
       "      <th>min</th>\n",
       "      <td>84.00</td>\n",
       "      <td>82.00</td>\n",
       "      <td>81.00</td>\n",
       "    </tr>\n",
       "    <tr>\n",
       "      <th>25%</th>\n",
       "      <td>86.25</td>\n",
       "      <td>87.00</td>\n",
       "      <td>85.00</td>\n",
       "    </tr>\n",
       "    <tr>\n",
       "      <th>50%</th>\n",
       "      <td>88.00</td>\n",
       "      <td>91.00</td>\n",
       "      <td>86.50</td>\n",
       "    </tr>\n",
       "    <tr>\n",
       "      <th>75%</th>\n",
       "      <td>89.75</td>\n",
       "      <td>92.75</td>\n",
       "      <td>88.75</td>\n",
       "    </tr>\n",
       "    <tr>\n",
       "      <th>max</th>\n",
       "      <td>94.00</td>\n",
       "      <td>97.00</td>\n",
       "      <td>92.00</td>\n",
       "    </tr>\n",
       "  </tbody>\n",
       "</table>\n",
       "</div>"
      ],
      "text/plain": [
       "       points_Alentejano  points_Napa  points_Mendoza\n",
       "count              30.00        30.00           30.00\n",
       "mean               87.80        90.00           86.83\n",
       "std                 2.59         3.76            2.64\n",
       "min                84.00        82.00           81.00\n",
       "25%                86.25        87.00           85.00\n",
       "50%                88.00        91.00           86.50\n",
       "75%                89.75        92.75           88.75\n",
       "max                94.00        97.00           92.00"
      ]
     },
     "execution_count": 10,
     "metadata": {},
     "output_type": "execute_result"
    }
   ],
   "source": [
    "df0 = pd.merge(alentejano.describe(),napa.describe(), left_index=True,\n",
    "               right_index=True, suffixes=('_Alentejano','_Napa'))\n",
    "df0.join(mendoza.describe().rename(columns={'points':'points_Mendoza'})).apply(lambda x: np.round(x,2))"
   ]
  },
  {
   "cell_type": "markdown",
   "metadata": {},
   "source": [
    "### 3.2 Distribution Fitting Test: Shapiro-Wilk"
   ]
  },
  {
   "cell_type": "markdown",
   "metadata": {},
   "source": [
    "#### 1st Assumption: The Population is Normal\n",
    "To evaluate the normality of both populations, we will use the Shapiro-Wilk test for an alpha=1%. In this test we are considering the following hypothesis:\n",
    "\n",
    "* **H0**: all populations are normal.\n",
    "* **H1**: at least one population is not normal."
   ]
  },
  {
   "cell_type": "code",
   "execution_count": 11,
   "metadata": {},
   "outputs": [
    {
     "data": {
      "text/html": [
       "<div>\n",
       "<style scoped>\n",
       "    .dataframe tbody tr th:only-of-type {\n",
       "        vertical-align: middle;\n",
       "    }\n",
       "\n",
       "    .dataframe tbody tr th {\n",
       "        vertical-align: top;\n",
       "    }\n",
       "\n",
       "    .dataframe thead th {\n",
       "        text-align: right;\n",
       "    }\n",
       "</style>\n",
       "<table border=\"1\" class=\"dataframe\">\n",
       "  <thead>\n",
       "    <tr style=\"text-align: right;\">\n",
       "      <th></th>\n",
       "      <th>Test Statistic</th>\n",
       "      <th>p-value</th>\n",
       "    </tr>\n",
       "  </thead>\n",
       "  <tbody>\n",
       "    <tr>\n",
       "      <th>Alentejano</th>\n",
       "      <td>0.944568</td>\n",
       "      <td>0.120771</td>\n",
       "    </tr>\n",
       "    <tr>\n",
       "      <th>Mendoza</th>\n",
       "      <td>0.972731</td>\n",
       "      <td>0.616268</td>\n",
       "    </tr>\n",
       "    <tr>\n",
       "      <th>Napa</th>\n",
       "      <td>0.959600</td>\n",
       "      <td>0.302559</td>\n",
       "    </tr>\n",
       "  </tbody>\n",
       "</table>\n",
       "</div>"
      ],
      "text/plain": [
       "            Test Statistic   p-value\n",
       "Alentejano        0.944568  0.120771\n",
       "Mendoza           0.972731  0.616268\n",
       "Napa              0.959600  0.302559"
      ]
     },
     "execution_count": 11,
     "metadata": {},
     "output_type": "execute_result"
    }
   ],
   "source": [
    "a_test_stat, a_p_value = stats.shapiro(selection['points'][selection['province'] == 'Alentejano'])\n",
    "n_test_stat, n_p_value = stats.shapiro(selection['points'][selection['province'] == 'Napa'])\n",
    "m_test_stat, m_p_value = stats.shapiro(selection['points'][selection['province'] == 'Mendoza'])\n",
    "\n",
    "norm_dict = {'Test Statistic':{'Alentejano': a_test_stat,\n",
    "                              'Napa':n_test_stat, 'Mendoza':m_test_stat},\n",
    "             'p-value':{'Alentejano':a_p_value,\n",
    "                       'Napa':n_p_value, 'Mendoza':m_p_value}}\n",
    "\n",
    "pd.DataFrame(norm_dict)"
   ]
  },
  {
   "cell_type": "markdown",
   "metadata": {},
   "source": [
    "Given the p-values above, we see that all of them are greater than the confidence level of 1% and, therefore, we can't reject the normality hypothesis for this confidence level."
   ]
  },
  {
   "cell_type": "markdown",
   "metadata": {},
   "source": [
    "### 3.3 Test for Equality of Variances: Levene\n",
    "#### 2nd Assumption: The 3 Normal Populations are Homoscedastic\n",
    "To test this assumption, we will use the **Levene test** to evaluate the following hypothesis:\n",
    "* **H0**: All variances are equal.\n",
    "* **H1**: At least one pair of variances is different."
   ]
  },
  {
   "cell_type": "code",
   "execution_count": 12,
   "metadata": {},
   "outputs": [
    {
     "data": {
      "text/html": [
       "<div>\n",
       "<style scoped>\n",
       "    .dataframe tbody tr th:only-of-type {\n",
       "        vertical-align: middle;\n",
       "    }\n",
       "\n",
       "    .dataframe tbody tr th {\n",
       "        vertical-align: top;\n",
       "    }\n",
       "\n",
       "    .dataframe thead th {\n",
       "        text-align: right;\n",
       "    }\n",
       "</style>\n",
       "<table border=\"1\" class=\"dataframe\">\n",
       "  <thead>\n",
       "    <tr style=\"text-align: right;\">\n",
       "      <th></th>\n",
       "      <th>Test Statistic</th>\n",
       "      <th>p-value</th>\n",
       "    </tr>\n",
       "  </thead>\n",
       "  <tbody>\n",
       "    <tr>\n",
       "      <th>Alentejano &amp; Mendoza</th>\n",
       "      <td>0.153862</td>\n",
       "      <td>0.696309</td>\n",
       "    </tr>\n",
       "    <tr>\n",
       "      <th>Alentejano &amp; Napa</th>\n",
       "      <td>4.622725</td>\n",
       "      <td>0.035733</td>\n",
       "    </tr>\n",
       "    <tr>\n",
       "      <th>Mendoza &amp; Napa</th>\n",
       "      <td>3.518321</td>\n",
       "      <td>0.065730</td>\n",
       "    </tr>\n",
       "  </tbody>\n",
       "</table>\n",
       "</div>"
      ],
      "text/plain": [
       "                      Test Statistic   p-value\n",
       "Alentejano & Mendoza        0.153862  0.696309\n",
       "Alentejano & Napa           4.622725  0.035733\n",
       "Mendoza & Napa              3.518321  0.065730"
      ]
     },
     "execution_count": 12,
     "metadata": {},
     "output_type": "execute_result"
    }
   ],
   "source": [
    "am_test_stat_levene, am_p_value = stats.levene(alentejano.points,mendoza.points)\n",
    "an_test_stat_levene, an_p_value = stats.levene(alentejano.points,napa.points)\n",
    "mn_test_stat_levene, mn_p_value = stats.levene(mendoza.points,napa.points)\n",
    "\n",
    "levene_dict = {'Test Statistic': {'Alentejano & Mendoza':am_test_stat_levene,\n",
    "                                  'Alentejano & Napa':an_test_stat_levene,\n",
    "                                  'Mendoza & Napa':mn_test_stat_levene},\n",
    "              'p-value': {'Alentejano & Mendoza':am_p_value,\n",
    "                          'Alentejano & Napa':an_p_value,\n",
    "                          'Mendoza & Napa':mn_p_value}}\n",
    "\n",
    "pd.DataFrame(levene_dict) #Pairwise Levene Tests "
   ]
  },
  {
   "cell_type": "markdown",
   "metadata": {},
   "source": [
    "The p-values are greater than alpha=0.01 and, therefore, we can't reject the normal hypothesis for the 1% confidence level.\n",
    "\n",
    "Since the data has passed in both the Shapiro and Levine's test for alpha=1%, let's proceed to the ANOVA test."
   ]
  },
  {
   "cell_type": "markdown",
   "metadata": {},
   "source": [
    "### 3.4 ANOVA\n",
    "In order to access if the means of our populations are significantly different, we can compare the p-value we obtain from the one-way Anova test with our chosen significance level of 1%. If greater, we will not be able to reject the null hypothesis that states that all the means are equal. Let's proceed to the test of the following hypothesis:\n",
    "* **H0**: All means are equal.\n",
    "* **H1**: At least one pair of means is different."
   ]
  },
  {
   "cell_type": "code",
   "execution_count": 13,
   "metadata": {},
   "outputs": [
    {
     "data": {
      "text/plain": [
       "F_onewayResult(statistic=8.5182783262423047, pvalue=0.00041830957589777116)"
      ]
     },
     "execution_count": 13,
     "metadata": {},
     "output_type": "execute_result"
    }
   ],
   "source": [
    "stats.f_oneway(alentejano['points'],mendoza['points'],napa['points'])"
   ]
  },
  {
   "cell_type": "markdown",
   "metadata": {},
   "source": [
    "Since the Anova's p-value is lower than alpha=0.01, **we reject the null hypothesis that all the means are equal for a significant level of 1%**. In other words, there's at least 1 pair of means that is different. However, this test does not tell us which pair. To be able to identify which pairs are not equal, let's proceed to the Multiple Comparison Test."
   ]
  },
  {
   "cell_type": "markdown",
   "metadata": {},
   "source": [
    "### 3.5 Multiple Comparison Test: Tukey's HSD"
   ]
  },
  {
   "cell_type": "code",
   "execution_count": 14,
   "metadata": {},
   "outputs": [
    {
     "name": "stdout",
     "output_type": "stream",
     "text": [
      "Multiple Comparison of Means - Tukey HSD,FWER=0.01\n",
      "=================================================\n",
      "  group1    group2 meandiff  lower  upper  reject\n",
      "-------------------------------------------------\n",
      "Alentejano Mendoza -0.9667   -3.319 1.3857 False \n",
      "Alentejano   Napa    2.2    -0.1524 4.5524 False \n",
      " Mendoza     Napa   3.1667   0.8143 5.519   True \n",
      "-------------------------------------------------\n"
     ]
    }
   ],
   "source": [
    "from statsmodels.stats.multicomp import MultiComparison\n",
    "\n",
    "multic = MultiComparison(selection['points'], selection['province'])\n",
    "result = multic.tukeyhsd(alpha=0.01)\n",
    " \n",
    "print(result)"
   ]
  },
  {
   "cell_type": "markdown",
   "metadata": {},
   "source": [
    "Based on the Tukey HSD test, there is significant evidence to reject the null hypothesis only for the group **'Mendoza & Napa'** for alpha=1%. This confirms the initial observations that Napa presented somewhat different values than the other 2 regions. Based on this test, this difference is significant enough to consider the means of Mendoza and Napa provinces to be different, while we can't say the same for the other two pairs for the given level of alpha. We can also see that the column **meandiff** above presents the difference of the means between the groups."
   ]
  },
  {
   "cell_type": "markdown",
   "metadata": {},
   "source": [
    "## 4. Conclusion"
   ]
  },
  {
   "cell_type": "markdown",
   "metadata": {},
   "source": [
    "* The mean score levels of the group **Mendoza & Napa** are significantly different at the 1% significance level.\n",
    "* For the 1% confidence level, the means of the groups **Alentejano & Mendoza** and **Alentejano & Napa** are equal."
   ]
  },
  {
   "cell_type": "markdown",
   "metadata": {},
   "source": [
    "## References\n",
    "* http://support.minitab.com/en-us/minitab-express/1/help-and-how-to/modeling-statistics/anova/how-to/one-way-anova/interpret-the-results/key-results/\n",
    "* https://docs.scipy.org/doc/scipy/reference/generated/scipy.stats.shapiro.html\n",
    "* https://docs.scipy.org/doc/scipy/reference/generated/scipy.stats.levene.html\n",
    "* https://docs.scipy.org/doc/scipy/reference/generated/scipy.stats.f_oneway.html\n",
    "* https://www.kaggle.com/zynicide/wine-reviews"
   ]
  },
  {
   "cell_type": "markdown",
   "metadata": {},
   "source": [
    "## Appendix"
   ]
  },
  {
   "cell_type": "code",
   "execution_count": 15,
   "metadata": {},
   "outputs": [
    {
     "data": {
      "text/plain": [
       "F_onewayResult(statistic=2.0479469308926017, pvalue=0.15777786358903875)"
      ]
     },
     "execution_count": 15,
     "metadata": {},
     "output_type": "execute_result"
    }
   ],
   "source": [
    "stats.f_oneway(alentejano['points'],mendoza['points'])"
   ]
  },
  {
   "cell_type": "code",
   "execution_count": 16,
   "metadata": {},
   "outputs": [
    {
     "data": {
      "text/plain": [
       "F_onewayResult(statistic=6.9623015873015861, pvalue=0.01067148960404808)"
      ]
     },
     "execution_count": 16,
     "metadata": {},
     "output_type": "execute_result"
    }
   ],
   "source": [
    "stats.f_oneway(alentejano['points'],napa['points'])"
   ]
  },
  {
   "cell_type": "code",
   "execution_count": 17,
   "metadata": {},
   "outputs": [
    {
     "data": {
      "text/plain": [
       "F_onewayResult(statistic=14.251293220800436, pvalue=0.00037845914789615018)"
      ]
     },
     "execution_count": 17,
     "metadata": {},
     "output_type": "execute_result"
    }
   ],
   "source": [
    "stats.f_oneway(mendoza['points'],napa['points'])"
   ]
  },
  {
   "cell_type": "code",
   "execution_count": 18,
   "metadata": {},
   "outputs": [
    {
     "data": {
      "text/html": [
       "<div>\n",
       "<style scoped>\n",
       "    .dataframe tbody tr th:only-of-type {\n",
       "        vertical-align: middle;\n",
       "    }\n",
       "\n",
       "    .dataframe tbody tr th {\n",
       "        vertical-align: top;\n",
       "    }\n",
       "\n",
       "    .dataframe thead th {\n",
       "        text-align: right;\n",
       "    }\n",
       "</style>\n",
       "<table border=\"1\" class=\"dataframe\">\n",
       "  <thead>\n",
       "    <tr style=\"text-align: right;\">\n",
       "      <th></th>\n",
       "      <th>points</th>\n",
       "    </tr>\n",
       "    <tr>\n",
       "      <th>province</th>\n",
       "      <th></th>\n",
       "    </tr>\n",
       "  </thead>\n",
       "  <tbody>\n",
       "    <tr>\n",
       "      <th>Alentejano</th>\n",
       "      <td>87.800000</td>\n",
       "    </tr>\n",
       "    <tr>\n",
       "      <th>Mendoza</th>\n",
       "      <td>86.833333</td>\n",
       "    </tr>\n",
       "    <tr>\n",
       "      <th>Napa</th>\n",
       "      <td>90.000000</td>\n",
       "    </tr>\n",
       "  </tbody>\n",
       "</table>\n",
       "</div>"
      ],
      "text/plain": [
       "               points\n",
       "province             \n",
       "Alentejano  87.800000\n",
       "Mendoza     86.833333\n",
       "Napa        90.000000"
      ]
     },
     "execution_count": 18,
     "metadata": {},
     "output_type": "execute_result"
    }
   ],
   "source": [
    "selection.groupby('province').agg('mean') #Means of the 3 provinces"
   ]
  },
  {
   "cell_type": "code",
   "execution_count": 19,
   "metadata": {},
   "outputs": [
    {
     "data": {
      "image/png": "[encoded data removed]",
      "text/plain": [
       "<matplotlib.figure.Figure at 0x1a0e043fd0>"
      ]
     },
     "metadata": {},
     "output_type": "display_data"
    }
   ],
   "source": [
    "selection.groupby('province').agg('mean').plot(marker='o', markersize=10,linestyle='None', figsize=(11.5,3))\n",
    "plt.text(0.04,87.7,'Alentejano {:.3}'.format(np.mean(\n",
    "    selection.points[selection.province == 'Alentejano'])), fontsize=14)\n",
    "plt.text(1.04,86.75,'Mendoza {:.3}'.format(np.mean(\n",
    "    selection.points[selection.province == 'Mendoza'])), fontsize=14)\n",
    "plt.text(1.76,89.87,'Napa {:.3}'.format(np.mean(\n",
    "    selection.points[selection.province == 'Napa'])), fontsize=14)\n",
    "plt.title('Plot of the means of the 3 provinces', fontweight='bold', fontsize=15)\n",
    "plt.xlabel('')\n",
    "plt.legend().set_visible(False)"
   ]
  },
  {
   "cell_type": "code",
   "execution_count": 20,
   "metadata": {},
   "outputs": [
    {
     "data": {
      "text/html": [
       "<div>\n",
       "<style scoped>\n",
       "    .dataframe tbody tr th:only-of-type {\n",
       "        vertical-align: middle;\n",
       "    }\n",
       "\n",
       "    .dataframe tbody tr th {\n",
       "        vertical-align: top;\n",
       "    }\n",
       "\n",
       "    .dataframe thead th {\n",
       "        text-align: right;\n",
       "    }\n",
       "</style>\n",
       "<table border=\"1\" class=\"dataframe\">\n",
       "  <thead>\n",
       "    <tr style=\"text-align: right;\">\n",
       "      <th></th>\n",
       "      <th>points</th>\n",
       "    </tr>\n",
       "    <tr>\n",
       "      <th>province</th>\n",
       "      <th></th>\n",
       "    </tr>\n",
       "  </thead>\n",
       "  <tbody>\n",
       "    <tr>\n",
       "      <th>Alentejano</th>\n",
       "      <td>6.717241</td>\n",
       "    </tr>\n",
       "    <tr>\n",
       "      <th>Mendoza</th>\n",
       "      <td>6.971264</td>\n",
       "    </tr>\n",
       "    <tr>\n",
       "      <th>Napa</th>\n",
       "      <td>14.137931</td>\n",
       "    </tr>\n",
       "  </tbody>\n",
       "</table>\n",
       "</div>"
      ],
      "text/plain": [
       "               points\n",
       "province             \n",
       "Alentejano   6.717241\n",
       "Mendoza      6.971264\n",
       "Napa        14.137931"
      ]
     },
     "execution_count": 20,
     "metadata": {},
     "output_type": "execute_result"
    }
   ],
   "source": [
    "selection.groupby('province').agg(np.var) #variances"
   ]
  }
 ],
 "metadata": {
  "celltoolbar": "Raw Cell Format",
  "hide_input": true,
  "kernelspec": {
   "display_name": "Python 3",
   "language": "python",
   "name": "python3"
  },
  "language_info": {
   "codemirror_mode": {
    "name": "ipython",
    "version": 3
   },
   "file_extension": ".py",
   "mimetype": "text/x-python",
   "name": "python",
   "nbconvert_exporter": "python",
   "pygments_lexer": "ipython3",
   "version": "3.6.6"
  },
  "toc": {
   "nav_menu": {},
   "number_sections": true,
   "sideBar": true,
   "skip_h1_title": false,
   "toc_cell": false,
   "toc_position": {},
   "toc_section_display": "block",
   "toc_window_display": false
  }
 },
 "nbformat": 4,
 "nbformat_minor": 2
}
